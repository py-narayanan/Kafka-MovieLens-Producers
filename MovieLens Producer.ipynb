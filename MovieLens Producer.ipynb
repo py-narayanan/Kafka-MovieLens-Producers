{
 "cells": [
  {
   "cell_type": "code",
   "execution_count": 1,
   "id": "6ce33114",
   "metadata": {},
   "outputs": [],
   "source": [
    "from kafka import KafkaConsumer, KafkaProducer\n",
    "import time\n",
    "import pandas as pd\n",
    "from json import dumps"
   ]
  },
  {
   "cell_type": "code",
   "execution_count": 2,
   "id": "3537092e",
   "metadata": {},
   "outputs": [],
   "source": [
    "from kafka import KafkaConsumer, KafkaProducer\n",
    "movie_csv = pd.read_csv(\"movie.csv\", delimiter= \"','\", engine='python')\n",
    "movie_json_convert = movie_csv.to_json(\"movies.json\")"
   ]
  },
  {
   "cell_type": "code",
   "execution_count": 3,
   "id": "938fe902",
   "metadata": {},
   "outputs": [],
   "source": [
    "KAFKA_TOPIC_NAME = \"numtest\"\n",
    "KAFKA_BOOTSTRAP_SERVER_CONN = \"localhost:9092\"\n",
    "\n",
    "kafka_producer_object = KafkaProducer(bootstrap_servers=KAFKA_BOOTSTRAP_SERVER_CONN,\n",
    "              value_serializer=lambda x: dumps(x).encode('utf-8'))"
   ]
  },
  {
   "cell_type": "code",
   "execution_count": 4,
   "id": "aab5c114",
   "metadata": {},
   "outputs": [],
   "source": [
    "movies_json = pd.read_json(\"movies.json\")\n",
    "movie_list= movies_json.to_dict(orient=\"records\")"
   ]
  },
  {
   "cell_type": "code",
   "execution_count": 5,
   "id": "fc570610",
   "metadata": {},
   "outputs": [
    {
     "name": "stdout",
     "output_type": "stream",
     "text": [
      "Message to be send :  {'\"movieId\",\"title\",\"genres\"': '1,\"Toy Story (1995)\",\"Adventure|Animation|Children|Comedy|Fantasy\"'}\n",
      "Message to be send :  {'\"movieId\",\"title\",\"genres\"': '2,\"Jumanji (1995)\",\"Adventure|Children|Fantasy\"'}\n",
      "Message to be send :  {'\"movieId\",\"title\",\"genres\"': '11,\"American President, The (1995)\",\"Comedy|Drama|Romance\"'}\n",
      "Message to be send :  {'\"movieId\",\"title\",\"genres\"': '102,\"Mr. Wrong (1996)\",\"Comedy\"'}\n",
      "Message to be send :  {'\"movieId\",\"title\",\"genres\"': '1019,\"20,000 Leagues Under the Sea (1954)\",\"Adventure|Drama|Sci-Fi\"'}\n",
      "Message to be send :  {'\"movieId\",\"title\",\"genres\"': '32892,\"Ivan\\'s Childhood (a.k.a. My Name is Ivan) (Ivanovo detstvo) (1962)\",\"Drama|War\"'}\n",
      "Message to be send :  {'\"movieId\",\"title\",\"genres\"': '32898,\"Trip to the Moon, A (Voyage dans la lune, Le) (1902)\",\"Action|Adventure|Fantasy|Sci-Fi\"'}\n",
      "Message to be send :  {'\"movieId\",\"title\",\"genres\"': '32902,\"Whisky (2004)\",\"Comedy|Drama\"'}\n",
      "Message to be send :  {'\"movieId\",\"title\",\"genres\"': '32906,\"Ascent, The (Voskhozhdeniye) (1977)\",\"Drama|War\"'}\n",
      "Message to be send :  {'\"movieId\",\"title\",\"genres\"': '32914,\"Carrie (2002)\",\"Drama|Horror|Thriller\"'}\n",
      "Message to be send :  {'\"movieId\",\"title\",\"genres\"': '32917,\"Boccaccio \\'70 (1962)\",\"Comedy|Fantasy|Romance\"'}\n",
      "Message to be send :  {'\"movieId\",\"title\",\"genres\"': '32923,\"Frankenfish (2004)\",\"Action|Comedy|Horror|Sci-Fi|Thriller\"'}\n",
      "Message to be send :  {'\"movieId\",\"title\",\"genres\"': '32925,\"Who\\'s Your Daddy? (2004)\",\"Comedy\"'}\n",
      "Message to be send :  {'\"movieId\",\"title\",\"genres\"': '32928,\"Control (2004)\",\"Crime|Sci-Fi|Thriller\"'}\n",
      "Message to be send :  {'\"movieId\",\"title\",\"genres\"': '32935,\"Evil Remains (Trespassing) (2004)\",\"Horror|Thriller\"'}\n",
      "Message to be send :  {'\"movieId\",\"title\",\"genres\"': '1020,\"Cool Runnings (1993)\",\"Comedy\"'}\n",
      "Message to be send :  {'\"movieId\",\"title\",\"genres\"': '32941,\"Self-Made Hero, A (Un héros très discret) (1996)\",\"Comedy|Drama\"'}\n",
      "Message to be send :  {'\"movieId\",\"title\",\"genres\"': '32943,\"Life Is Sweet (1990)\",\"Comedy|Drama\"'}\n",
      "Message to be send :  {'\"movieId\",\"title\",\"genres\"': '32952,\"Ride the Pink Horse (1947)\",\"Drama|Film-Noir|Mystery|Thriller\"'}\n",
      "Message to be send :  {'\"movieId\",\"title\",\"genres\"': '32954,\"Chant of Jimmy Blacksmith, The (1978)\",\"Drama\"'}\n",
      "Message to be send :  {'\"movieId\",\"title\",\"genres\"': '32957,\"Double Suicide (Shinjû: Ten no amijima) (1969)\",\"Drama|Romance\"'}\n",
      "Message to be send :  {'\"movieId\",\"title\",\"genres\"': '32959,\"Boy (Shônen) (1969)\",\"Drama\"'}\n",
      "Message to be send :  {'\"movieId\",\"title\",\"genres\"': '32966,\"Let Him Have It (1991)\",\"Crime|Drama\"'}\n",
      "Message to be send :  {'\"movieId\",\"title\",\"genres\"': '32968,\"Guelwaar (1993)\",\"Drama\"'}\n",
      "Message to be send :  {'\"movieId\",\"title\",\"genres\"': '32972,\"Dr. Akagi (Kanzo sensei) (1998)\",\"Comedy|Drama|War\"'}\n",
      "Message to be send :  {'\"movieId\",\"title\",\"genres\"': '32974,\"Black Rain (Kuroi ame) (1989)\",\"Drama|War\"'}\n",
      "Message to be send :  {'\"movieId\",\"title\",\"genres\"': '1021,\"Angels in the Outfield (1994)\",\"Children|Comedy\"'}\n",
      "Message to be send :  {'\"movieId\",\"title\",\"genres\"': '32979,\"Alexandra\\'s Project (2003)\",\"Drama|Thriller\"'}\n",
      "Message to be send :  {'\"movieId\",\"title\",\"genres\"': '32988,\"Clean (2004)\",\"Drama\"'}\n",
      "Message to be send :  {'\"movieId\",\"title\",\"genres\"': '32994,\"Delicate Art of Parking, The (2003)\",\"Comedy\"'}\n",
      "Message to be send :  {'\"movieId\",\"title\",\"genres\"': '32999,\"Wilson (1944)\",\"Drama\"'}\n",
      "Message to be send :  {'\"movieId\",\"title\",\"genres\"': '33001,\"Blossoms in the Dust (1941)\",\"Drama\"'}\n",
      "Message to be send :  {'\"movieId\",\"title\",\"genres\"': '33004,\"Hitchhiker\\'s Guide to the Galaxy, The (2005)\",\"Adventure|Comedy|Sci-Fi\"'}\n",
      "Message to be send :  {'\"movieId\",\"title\",\"genres\"': '33008,\"King\\'s Game (Kongekabale) (2004)\",\"Thriller\"'}\n",
      "Message to be send :  {'\"movieId\",\"title\",\"genres\"': '33019,\"Barefoot (Barfuss) (2005)\",\"Comedy|Drama|Romance\"'}\n",
      "Message to be send :  {'\"movieId\",\"title\",\"genres\"': '33021,\"Dark Habits (Entre tinieblas) (1983)\",\"Comedy|Drama\"'}\n",
      "Message to be send :  {'\"movieId\",\"title\",\"genres\"': '33027,\"Snake and Crane Arts of Shaolin (She hao ba bu) (1978)\",\"Action|Drama\"'}\n",
      "Message to be send :  {'\"movieId\",\"title\",\"genres\"': '1022,\"Cinderella (1950)\",\"Animation|Children|Fantasy|Musical|Romance\"'}\n",
      "Message to be send :  {'\"movieId\",\"title\",\"genres\"': '33036,\"Eiger Sanction, The (1975)\",\"Action|Adventure|Drama|Thriller\"'}\n",
      "Message to be send :  {'\"movieId\",\"title\",\"genres\"': '33049,\"It Started in Naples (1960)\",\"Comedy|Drama\"'}\n",
      "Message to be send :  {'\"movieId\",\"title\",\"genres\"': '33051,\"Skin Game (1971)\",\"Comedy|Romance|Western\"'}\n"
     ]
    },
    {
     "ename": "KeyboardInterrupt",
     "evalue": "",
     "output_type": "error",
     "traceback": [
      "\u001b[0;31m---------------------------------------------------------------------------\u001b[0m",
      "\u001b[0;31mKeyboardInterrupt\u001b[0m                         Traceback (most recent call last)",
      "\u001b[0;32m<ipython-input-5-329f9b6a4aa5>\u001b[0m in \u001b[0;36m<module>\u001b[0;34m\u001b[0m\n\u001b[1;32m      2\u001b[0m     \u001b[0mprint\u001b[0m\u001b[0;34m(\u001b[0m\u001b[0;34m\"Message to be send : \"\u001b[0m\u001b[0;34m,\u001b[0m \u001b[0mmovie\u001b[0m\u001b[0;34m)\u001b[0m\u001b[0;34m\u001b[0m\u001b[0;34m\u001b[0m\u001b[0m\n\u001b[1;32m      3\u001b[0m     \u001b[0mkafka_producer_object\u001b[0m\u001b[0;34m.\u001b[0m\u001b[0msend\u001b[0m\u001b[0;34m(\u001b[0m\u001b[0mKAFKA_TOPIC_NAME\u001b[0m\u001b[0;34m,\u001b[0m\u001b[0mvalue\u001b[0m\u001b[0;34m=\u001b[0m\u001b[0mmovie\u001b[0m\u001b[0;34m)\u001b[0m\u001b[0;34m\u001b[0m\u001b[0;34m\u001b[0m\u001b[0m\n\u001b[0;32m----> 4\u001b[0;31m     \u001b[0mtime\u001b[0m\u001b[0;34m.\u001b[0m\u001b[0msleep\u001b[0m\u001b[0;34m(\u001b[0m\u001b[0;36m3\u001b[0m\u001b[0;34m)\u001b[0m\u001b[0;34m\u001b[0m\u001b[0;34m\u001b[0m\u001b[0m\n\u001b[0m",
      "\u001b[0;31mKeyboardInterrupt\u001b[0m: "
     ]
    }
   ],
   "source": [
    "for movie in movie_list:\n",
    "    print(\"Message to be send : \", movie)\n",
    "    kafka_producer_object.send(KAFKA_TOPIC_NAME,value=movie)\n",
    "    time.sleep(3)"
   ]
  },
  {
   "cell_type": "code",
   "execution_count": null,
   "id": "a1ff63ca",
   "metadata": {},
   "outputs": [],
   "source": []
  }
 ],
 "metadata": {
  "kernelspec": {
   "display_name": "Python 3",
   "language": "python",
   "name": "python3"
  },
  "language_info": {
   "codemirror_mode": {
    "name": "ipython",
    "version": 3
   },
   "file_extension": ".py",
   "mimetype": "text/x-python",
   "name": "python",
   "nbconvert_exporter": "python",
   "pygments_lexer": "ipython3",
   "version": "3.8.5"
  }
 },
 "nbformat": 4,
 "nbformat_minor": 5
}
