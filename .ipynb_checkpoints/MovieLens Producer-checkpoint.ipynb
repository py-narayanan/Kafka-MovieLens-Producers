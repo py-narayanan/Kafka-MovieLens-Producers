{
 "cells": [
  {
   "cell_type": "code",
   "execution_count": 3,
   "id": "6ce33114",
   "metadata": {},
   "outputs": [],
   "source": [
    "from kafka import KafkaConsumer, KafkaProducer\n",
    "import time\n",
    "import pandas as pd\n",
    "from json import dumps"
   ]
  },
  {
   "cell_type": "code",
   "execution_count": 4,
   "id": "3537092e",
   "metadata": {},
   "outputs": [],
   "source": [
    "from kafka import KafkaConsumer, KafkaProducer\n",
    "movie_csv = pd.read_csv(\"movie.csv\", delimiter= \"','\", engine='python')\n",
    "movie_json_convert = movie_csv.to_json(\"movies.json\")"
   ]
  },
  {
   "cell_type": "code",
   "execution_count": 5,
   "id": "938fe902",
   "metadata": {},
   "outputs": [],
   "source": [
    "KAFKA_TOPIC_NAME = \"numtest\"\n",
    "KAFKA_BOOTSTRAP_SERVER_CONN = \"localhost:9092\"\n",
    "\n",
    "kafka_producer_object = KafkaProducer(bootstrap_servers=KAFKA_BOOTSTRAP_SERVER_CONN,\n",
    "              value_serializer=lambda x: dumps(x).encode('utf-8'))"
   ]
  },
  {
   "cell_type": "code",
   "execution_count": 6,
   "id": "aab5c114",
   "metadata": {},
   "outputs": [],
   "source": [
    "movies_json = pd.read_json(\"movies.json\")\n",
    "movie_list= movies_json.to_dict(orient=\"records\")"
   ]
  },
  {
   "cell_type": "code",
   "execution_count": 7,
   "id": "fc570610",
   "metadata": {},
   "outputs": [
    {
     "name": "stdout",
     "output_type": "stream",
     "text": [
      "Message to be send :  {'\"movieId\",\"title\",\"genres\"': '1,\"Toy Story (1995)\",\"Adventure|Animation|Children|Comedy|Fantasy\"'}\n",
      "Message to be send :  {'\"movieId\",\"title\",\"genres\"': '2,\"Jumanji (1995)\",\"Adventure|Children|Fantasy\"'}\n",
      "Message to be send :  {'\"movieId\",\"title\",\"genres\"': '11,\"American President, The (1995)\",\"Comedy|Drama|Romance\"'}\n"
     ]
    },
    {
     "ename": "KeyboardInterrupt",
     "evalue": "",
     "output_type": "error",
     "traceback": [
      "\u001b[0;31m---------------------------------------------------------------------------\u001b[0m",
      "\u001b[0;31mKeyboardInterrupt\u001b[0m                         Traceback (most recent call last)",
      "\u001b[0;32m<ipython-input-7-329f9b6a4aa5>\u001b[0m in \u001b[0;36m<module>\u001b[0;34m\u001b[0m\n\u001b[1;32m      2\u001b[0m     \u001b[0mprint\u001b[0m\u001b[0;34m(\u001b[0m\u001b[0;34m\"Message to be send : \"\u001b[0m\u001b[0;34m,\u001b[0m \u001b[0mmovie\u001b[0m\u001b[0;34m)\u001b[0m\u001b[0;34m\u001b[0m\u001b[0;34m\u001b[0m\u001b[0m\n\u001b[1;32m      3\u001b[0m     \u001b[0mkafka_producer_object\u001b[0m\u001b[0;34m.\u001b[0m\u001b[0msend\u001b[0m\u001b[0;34m(\u001b[0m\u001b[0mKAFKA_TOPIC_NAME\u001b[0m\u001b[0;34m,\u001b[0m\u001b[0mvalue\u001b[0m\u001b[0;34m=\u001b[0m\u001b[0mmovie\u001b[0m\u001b[0;34m)\u001b[0m\u001b[0;34m\u001b[0m\u001b[0;34m\u001b[0m\u001b[0m\n\u001b[0;32m----> 4\u001b[0;31m     \u001b[0mtime\u001b[0m\u001b[0;34m.\u001b[0m\u001b[0msleep\u001b[0m\u001b[0;34m(\u001b[0m\u001b[0;36m3\u001b[0m\u001b[0;34m)\u001b[0m\u001b[0;34m\u001b[0m\u001b[0;34m\u001b[0m\u001b[0m\n\u001b[0m",
      "\u001b[0;31mKeyboardInterrupt\u001b[0m: "
     ]
    }
   ],
   "source": [
    "for movie in movie_list:\n",
    "    print(\"Message to be send : \", movie)\n",
    "    kafka_producer_object.send(KAFKA_TOPIC_NAME,value=movie)\n",
    "    time.sleep(3)"
   ]
  },
  {
   "cell_type": "code",
   "execution_count": null,
   "id": "a1ff63ca",
   "metadata": {},
   "outputs": [],
   "source": []
  }
 ],
 "metadata": {
  "kernelspec": {
   "display_name": "Python 3",
   "language": "python",
   "name": "python3"
  },
  "language_info": {
   "codemirror_mode": {
    "name": "ipython",
    "version": 3
   },
   "file_extension": ".py",
   "mimetype": "text/x-python",
   "name": "python",
   "nbconvert_exporter": "python",
   "pygments_lexer": "ipython3",
   "version": "3.8.5"
  }
 },
 "nbformat": 4,
 "nbformat_minor": 5
}
